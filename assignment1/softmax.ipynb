{
 "cells": [
  {
   "cell_type": "markdown",
   "metadata": {},
   "source": [
    "# Softmax exercise\n",
    "\n",
    "*Complete and hand in this completed worksheet (including its outputs and any supporting code outside of the worksheet) with your assignment submission. For more details see the [assignments page](http://vision.stanford.edu/teaching/cs231n/assignments.html) on the course website.*\n",
    "\n",
    "This exercise is analogous to the SVM exercise. You will:\n",
    "\n",
    "- implement a fully-vectorized **loss function** for the Softmax classifier\n",
    "- implement the fully-vectorized expression for its **analytic gradient**\n",
    "- **check your implementation** with numerical gradient\n",
    "- use a validation set to **tune the learning rate and regularization** strength\n",
    "- **optimize** the loss function with **SGD**\n",
    "- **visualize** the final learned weights\n"
   ]
  },
  {
   "cell_type": "code",
   "execution_count": 1,
   "metadata": {
    "collapsed": false
   },
   "outputs": [],
   "source": [
    "import random\n",
    "import numpy as np\n",
    "from cs231n.data_utils import load_CIFAR10\n",
    "import matplotlib.pyplot as plt\n",
    "\n",
    "from __future__ import print_function\n",
    "\n",
    "%matplotlib inline\n",
    "plt.rcParams['figure.figsize'] = (10.0, 8.0) # set default size of plots\n",
    "plt.rcParams['image.interpolation'] = 'nearest'\n",
    "plt.rcParams['image.cmap'] = 'gray'\n",
    "\n",
    "# for auto-reloading extenrnal modules\n",
    "# see http://stackoverflow.com/questions/1907993/autoreload-of-modules-in-ipython\n",
    "%load_ext autoreload\n",
    "%autoreload 2"
   ]
  },
  {
   "cell_type": "code",
   "execution_count": 2,
   "metadata": {
    "collapsed": false
   },
   "outputs": [
    {
     "name": "stdout",
     "output_type": "stream",
     "text": [
      "Train data shape:  (49000, 3073)\n",
      "Train labels shape:  (49000,)\n",
      "Validation data shape:  (1000, 3073)\n",
      "Validation labels shape:  (1000,)\n",
      "Test data shape:  (1000, 3073)\n",
      "Test labels shape:  (1000,)\n",
      "dev data shape:  (500, 3073)\n",
      "dev labels shape:  (500,)\n"
     ]
    }
   ],
   "source": [
    "def get_CIFAR10_data(num_training=49000, num_validation=1000, num_test=1000, num_dev=500):\n",
    "    \"\"\"\n",
    "    Load the CIFAR-10 dataset from disk and perform preprocessing to prepare\n",
    "    it for the linear classifier. These are the same steps as we used for the\n",
    "    SVM, but condensed to a single function.  \n",
    "    \"\"\"\n",
    "    # Load the raw CIFAR-10 data\n",
    "    cifar10_dir = 'cs231n/datasets/cifar-10-batches-py'\n",
    "    X_train, y_train, X_test, y_test = load_CIFAR10(cifar10_dir)\n",
    "    \n",
    "    # subsample the data\n",
    "    mask = list(range(num_training, num_training + num_validation))\n",
    "    X_val = X_train[mask]\n",
    "    y_val = y_train[mask]\n",
    "    mask = list(range(num_training))\n",
    "    X_train = X_train[mask]\n",
    "    y_train = y_train[mask]\n",
    "    mask = list(range(num_test))\n",
    "    X_test = X_test[mask]\n",
    "    y_test = y_test[mask]\n",
    "    mask = np.random.choice(num_training, num_dev, replace=False)\n",
    "    X_dev = X_train[mask]\n",
    "    y_dev = y_train[mask]\n",
    "    \n",
    "    # Preprocessing: reshape the image data into rows\n",
    "    X_train = np.reshape(X_train, (X_train.shape[0], -1))\n",
    "    X_val = np.reshape(X_val, (X_val.shape[0], -1))\n",
    "    X_test = np.reshape(X_test, (X_test.shape[0], -1))\n",
    "    X_dev = np.reshape(X_dev, (X_dev.shape[0], -1))\n",
    "    \n",
    "    # Normalize the data: subtract the mean image\n",
    "    mean_image = np.mean(X_train, axis = 0)\n",
    "    X_train -= mean_image\n",
    "    X_val -= mean_image\n",
    "    X_test -= mean_image\n",
    "    X_dev -= mean_image\n",
    "    \n",
    "    # add bias dimension and transform into columns\n",
    "    X_train = np.hstack([X_train, np.ones((X_train.shape[0], 1))])\n",
    "    X_val = np.hstack([X_val, np.ones((X_val.shape[0], 1))])\n",
    "    X_test = np.hstack([X_test, np.ones((X_test.shape[0], 1))])\n",
    "    X_dev = np.hstack([X_dev, np.ones((X_dev.shape[0], 1))])\n",
    "    \n",
    "    return X_train, y_train, X_val, y_val, X_test, y_test, X_dev, y_dev\n",
    "\n",
    "\n",
    "# Invoke the above function to get our data.\n",
    "X_train, y_train, X_val, y_val, X_test, y_test, X_dev, y_dev = get_CIFAR10_data()\n",
    "print('Train data shape: ', X_train.shape)\n",
    "print('Train labels shape: ', y_train.shape)\n",
    "print('Validation data shape: ', X_val.shape)\n",
    "print('Validation labels shape: ', y_val.shape)\n",
    "print('Test data shape: ', X_test.shape)\n",
    "print('Test labels shape: ', y_test.shape)\n",
    "print('dev data shape: ', X_dev.shape)\n",
    "print('dev labels shape: ', y_dev.shape)"
   ]
  },
  {
   "cell_type": "markdown",
   "metadata": {},
   "source": [
    "## Softmax Classifier\n",
    "\n",
    "Your code for this section will all be written inside **cs231n/classifiers/softmax.py**. \n"
   ]
  },
  {
   "cell_type": "code",
   "execution_count": 3,
   "metadata": {
    "collapsed": false
   },
   "outputs": [
    {
     "name": "stdout",
     "output_type": "stream",
     "text": [
      "loss: 2.356551\n",
      "sanity check: 2.302585\n"
     ]
    }
   ],
   "source": [
    "# First implement the naive softmax loss function with nested loops.\n",
    "# Open the file cs231n/classifiers/softmax.py and implement the\n",
    "# softmax_loss_naive function.\n",
    "\n",
    "from cs231n.classifiers.softmax import softmax_loss_naive\n",
    "import time\n",
    "\n",
    "# Generate a random softmax weight matrix and use it to compute the loss.\n",
    "W = np.random.randn(3073, 10) * 0.0001\n",
    "loss, grad = softmax_loss_naive(W, X_dev, y_dev, 0.0)\n",
    "\n",
    "# As a rough sanity check, our loss should be something close to -log(0.1).\n",
    "print('loss: %f' % loss)\n",
    "print('sanity check: %f' % (-np.log(0.1)))"
   ]
  },
  {
   "cell_type": "markdown",
   "metadata": {},
   "source": [
    "## Inline Question 1:\n",
    "Why do we expect our loss to be close to -log(0.1)? Explain briefly.**\n",
    "\n",
    "**Your answer:** Initially all weights are random, so we expect a random classification with no preference to any class. Therefore the probability of correct class in 0.1 as there are 10 classes. \n"
   ]
  },
  {
   "cell_type": "code",
   "execution_count": 4,
   "metadata": {
    "collapsed": false
   },
   "outputs": [
    {
     "name": "stdout",
     "output_type": "stream",
     "text": [
      "numerical: -4.748276 analytic: -4.748277, relative error: 1.844824e-08\n",
      "numerical: -1.483934 analytic: -1.483934, relative error: 8.496615e-09\n",
      "numerical: 1.470819 analytic: 1.470819, relative error: 5.408424e-08\n",
      "numerical: 0.356524 analytic: 0.356524, relative error: 9.405735e-08\n",
      "numerical: -0.525504 analytic: -0.525504, relative error: 5.195887e-08\n",
      "numerical: -1.336027 analytic: -1.336027, relative error: 1.279803e-08\n",
      "numerical: -0.470197 analytic: -0.470197, relative error: 1.171081e-07\n",
      "numerical: 3.524944 analytic: 3.524944, relative error: 1.162716e-08\n",
      "numerical: -0.481083 analytic: -0.481083, relative error: 2.205354e-07\n",
      "numerical: -0.190729 analytic: -0.190729, relative error: 2.848942e-07\n",
      "numerical: 2.479627 analytic: 2.479627, relative error: 2.917284e-08\n",
      "numerical: 0.245295 analytic: 0.245295, relative error: 1.230717e-07\n",
      "numerical: 0.118313 analytic: 0.118313, relative error: 4.323605e-07\n",
      "numerical: 1.954203 analytic: 1.954203, relative error: 8.580443e-11\n",
      "numerical: -1.634324 analytic: -1.634324, relative error: 5.042506e-09\n",
      "numerical: 1.876696 analytic: 1.876696, relative error: 1.567600e-09\n",
      "numerical: 3.712753 analytic: 3.712753, relative error: 1.041014e-08\n",
      "numerical: 2.516818 analytic: 2.516818, relative error: 3.512413e-08\n",
      "numerical: 2.303994 analytic: 2.303994, relative error: 2.489806e-08\n",
      "numerical: -0.911282 analytic: -0.911282, relative error: 4.042570e-08\n"
     ]
    }
   ],
   "source": [
    "# Complete the implementation of softmax_loss_naive and implement a (naive)\n",
    "# version of the gradient that uses nested loops.\n",
    "loss, grad = softmax_loss_naive(W, X_dev, y_dev, 0.0)\n",
    "\n",
    "# As we did for the SVM, use numeric gradient checking as a debugging tool.\n",
    "# The numeric gradient should be close to the analytic gradient.\n",
    "from cs231n.gradient_check import grad_check_sparse\n",
    "f = lambda w: softmax_loss_naive(w, X_dev, y_dev, 0.0)[0]\n",
    "grad_numerical = grad_check_sparse(f, W, grad, 10)\n",
    "\n",
    "# similar to SVM case, do another gradient check with regularization\n",
    "loss, grad = softmax_loss_naive(W, X_dev, y_dev, 5e1)\n",
    "f = lambda w: softmax_loss_naive(w, X_dev, y_dev, 5e1)[0]\n",
    "grad_numerical = grad_check_sparse(f, W, grad, 10)"
   ]
  },
  {
   "cell_type": "code",
   "execution_count": 5,
   "metadata": {
    "collapsed": false
   },
   "outputs": [
    {
     "name": "stdout",
     "output_type": "stream",
     "text": [
      "naive loss: 2.356551e+00 computed in 0.124007s\n",
      "vectorized loss: 2.356551e+00 computed in 0.015036s\n",
      "Loss difference: 0.000000\n",
      "Gradient difference: 0.000000\n"
     ]
    }
   ],
   "source": [
    "# Now that we have a naive implementation of the softmax loss function and its gradient,\n",
    "# implement a vectorized version in softmax_loss_vectorized.\n",
    "# The two versions should compute the same results, but the vectorized version should be\n",
    "# much faster.\n",
    "tic = time.time()\n",
    "loss_naive, grad_naive = softmax_loss_naive(W, X_dev, y_dev, 0.000005)\n",
    "toc = time.time()\n",
    "print('naive loss: %e computed in %fs' % (loss_naive, toc - tic))\n",
    "\n",
    "from cs231n.classifiers.softmax import softmax_loss_vectorized\n",
    "tic = time.time()\n",
    "loss_vectorized, grad_vectorized = softmax_loss_vectorized(W, X_dev, y_dev, 0.000005)\n",
    "toc = time.time()\n",
    "print('vectorized loss: %e computed in %fs' % (loss_vectorized, toc - tic))\n",
    "\n",
    "# As we did for the SVM, we use the Frobenius norm to compare the two versions\n",
    "# of the gradient.\n",
    "grad_difference = np.linalg.norm(grad_naive - grad_vectorized, ord='fro')\n",
    "print('Loss difference: %f' % np.abs(loss_naive - loss_vectorized))\n",
    "print('Gradient difference: %f' % grad_difference)"
   ]
  },
  {
   "cell_type": "code",
   "execution_count": 6,
   "metadata": {
    "collapsed": false
   },
   "outputs": [
    {
     "name": "stdout",
     "output_type": "stream",
     "text": [
      "iteration 0 / 2500: loss 771.250573\n",
      "iteration 100 / 2500: loss 283.196306\n",
      "iteration 200 / 2500: loss 104.882218\n",
      "iteration 300 / 2500: loss 39.703951\n",
      "iteration 400 / 2500: loss 15.878643\n",
      "iteration 500 / 2500: loss 7.125521\n",
      "iteration 600 / 2500: loss 3.874763\n",
      "iteration 700 / 2500: loss 2.764671\n",
      "iteration 800 / 2500: loss 2.343926\n",
      "iteration 900 / 2500: loss 2.189782\n",
      "iteration 1000 / 2500: loss 2.092508\n",
      "iteration 1100 / 2500: loss 2.098853\n",
      "iteration 1200 / 2500: loss 2.073064\n",
      "iteration 1300 / 2500: loss 2.115120\n",
      "iteration 1400 / 2500: loss 2.086001\n",
      "iteration 1500 / 2500: loss 2.034548\n",
      "iteration 1600 / 2500: loss 2.069046\n",
      "iteration 1700 / 2500: loss 2.104283\n",
      "iteration 1800 / 2500: loss 2.124303\n",
      "iteration 1900 / 2500: loss 2.091008\n",
      "iteration 2000 / 2500: loss 2.082827\n",
      "iteration 2100 / 2500: loss 2.127778\n",
      "iteration 2200 / 2500: loss 2.068065\n",
      "iteration 2300 / 2500: loss 2.105825\n",
      "iteration 2400 / 2500: loss 2.043893\n",
      "iteration 0 / 2500: loss 1548.003952\n",
      "iteration 100 / 2500: loss 208.359173\n",
      "iteration 200 / 2500: loss 29.732890\n",
      "iteration 300 / 2500: loss 5.797304\n",
      "iteration 400 / 2500: loss 2.647601\n",
      "iteration 500 / 2500: loss 2.179291\n",
      "iteration 600 / 2500: loss 2.136960\n",
      "iteration 700 / 2500: loss 2.166599\n",
      "iteration 800 / 2500: loss 2.178677\n",
      "iteration 900 / 2500: loss 2.136942\n",
      "iteration 1000 / 2500: loss 2.114372\n",
      "iteration 1100 / 2500: loss 2.081487\n",
      "iteration 1200 / 2500: loss 2.102227\n",
      "iteration 1300 / 2500: loss 2.139891\n",
      "iteration 1400 / 2500: loss 2.129330\n",
      "iteration 1500 / 2500: loss 2.154997\n",
      "iteration 1600 / 2500: loss 2.198126\n",
      "iteration 1700 / 2500: loss 2.179725\n",
      "iteration 1800 / 2500: loss 2.165222\n",
      "iteration 1900 / 2500: loss 2.142754\n",
      "iteration 2000 / 2500: loss 2.139634\n",
      "iteration 2100 / 2500: loss 2.118861\n",
      "iteration 2200 / 2500: loss 2.135867\n",
      "iteration 2300 / 2500: loss 2.108839\n",
      "iteration 2400 / 2500: loss 2.143980\n",
      "iteration 0 / 2500: loss 778.785475\n",
      "iteration 100 / 2500: loss 6.930454\n",
      "iteration 200 / 2500: loss 2.101635\n",
      "iteration 300 / 2500: loss 2.125557\n",
      "iteration 400 / 2500: loss 2.138881\n",
      "iteration 500 / 2500: loss 2.038607\n",
      "iteration 600 / 2500: loss 2.104471\n",
      "iteration 700 / 2500: loss 2.078030\n",
      "iteration 800 / 2500: loss 2.084069\n",
      "iteration 900 / 2500: loss 2.132501\n",
      "iteration 1000 / 2500: loss 2.120375\n",
      "iteration 1100 / 2500: loss 2.075924\n",
      "iteration 1200 / 2500: loss 2.109736\n",
      "iteration 1300 / 2500: loss 2.078218\n",
      "iteration 1400 / 2500: loss 2.054258\n",
      "iteration 1500 / 2500: loss 2.058748\n",
      "iteration 1600 / 2500: loss 2.050013\n",
      "iteration 1700 / 2500: loss 2.103888\n",
      "iteration 1800 / 2500: loss 2.068464\n",
      "iteration 1900 / 2500: loss 2.099291\n",
      "iteration 2000 / 2500: loss 2.135158\n",
      "iteration 2100 / 2500: loss 2.042497\n",
      "iteration 2200 / 2500: loss 2.062538\n",
      "iteration 2300 / 2500: loss 2.067547\n",
      "iteration 2400 / 2500: loss 2.075776\n",
      "iteration 0 / 2500: loss 1567.732653\n",
      "iteration 100 / 2500: loss 2.160309\n",
      "iteration 200 / 2500: loss 2.165260\n",
      "iteration 300 / 2500: loss 2.157558\n",
      "iteration 400 / 2500: loss 2.148519\n",
      "iteration 500 / 2500: loss 2.215410\n",
      "iteration 600 / 2500: loss 2.126257\n",
      "iteration 700 / 2500: loss 2.117550\n",
      "iteration 800 / 2500: loss 2.170037\n",
      "iteration 900 / 2500: loss 2.164071\n",
      "iteration 1000 / 2500: loss 2.164377\n",
      "iteration 1100 / 2500: loss 2.198917\n",
      "iteration 1200 / 2500: loss 2.109504\n",
      "iteration 1300 / 2500: loss 2.141072\n",
      "iteration 1400 / 2500: loss 2.155174\n",
      "iteration 1500 / 2500: loss 2.129051\n",
      "iteration 1600 / 2500: loss 2.169977\n",
      "iteration 1700 / 2500: loss 2.142102\n",
      "iteration 1800 / 2500: loss 2.169726\n",
      "iteration 1900 / 2500: loss 2.147137\n",
      "iteration 2000 / 2500: loss 2.162531\n",
      "iteration 2100 / 2500: loss 2.164495\n",
      "iteration 2200 / 2500: loss 2.129513\n",
      "iteration 2300 / 2500: loss 2.159877\n",
      "iteration 2400 / 2500: loss 2.131569\n",
      "lr 1.000000e-07 reg 2.500000e+04 train accuracy: 0.322898 val accuracy: 0.340000\n",
      "lr 1.000000e-07 reg 5.000000e+04 train accuracy: 0.309000 val accuracy: 0.323000\n",
      "lr 5.000000e-07 reg 2.500000e+04 train accuracy: 0.327204 val accuracy: 0.340000\n",
      "lr 5.000000e-07 reg 5.000000e+04 train accuracy: 0.309490 val accuracy: 0.319000\n",
      "best validation accuracy achieved during cross-validation: 0.340000\n"
     ]
    }
   ],
   "source": [
    "# Use the validation set to tune hyperparameters (regularization strength and\n",
    "# learning rate). You should experiment with different ranges for the learning\n",
    "# rates and regularization strengths; if you are careful you should be able to\n",
    "# get a classification accuracy of over 0.35 on the validation set.\n",
    "from cs231n.classifiers import Softmax\n",
    "results = {}\n",
    "best_val = -1\n",
    "best_softmax = None\n",
    "learning_rates = [1e-7, 5e-7]\n",
    "regularization_strengths = [2.5e4, 5e4]\n",
    "\n",
    "################################################################################\n",
    "# TODO:                                                                        #\n",
    "# Use the validation set to set the learning rate and regularization strength. #\n",
    "# This should be identical to the validation that you did for the SVM; save    #\n",
    "# the best trained softmax classifer in best_softmax.                          #\n",
    "################################################################################\n",
    "\n",
    "mesh_l, mesh_r = np.meshgrid(learning_rates, regularization_strengths,indexing='ij')\n",
    "\n",
    "for i in np.arange(len(learning_rates)):\n",
    "    for j in np.arange(len(regularization_strengths)):\n",
    "        softmax = Softmax()\n",
    "        softmax.train(X_train, y_train, learning_rate=mesh_l[i,j], reg=mesh_r[i,j], num_iters=2500, verbose=True)\n",
    "        y_train_pred = softmax.predict(X_train)\n",
    "        y_train_pred = np.mean(y_train == y_train_pred)\n",
    "        y_val_pred = softmax.predict(X_val)\n",
    "        y_val_pred = np.mean(y_val == y_val_pred)\n",
    "        results[(mesh_l[i,j],mesh_r[i,j])] = (y_train_pred, y_val_pred)\n",
    "        if best_val < y_val_pred:\n",
    "            best_val = y_val_pred\n",
    "            best_softmax = softmax\n",
    "################################################################################\n",
    "#                              END OF YOUR CODE                                #\n",
    "################################################################################\n",
    "    \n",
    "# Print out results.\n",
    "for lr, reg in sorted(results):\n",
    "    train_accuracy, val_accuracy = results[(lr, reg)]\n",
    "    print('lr %e reg %e train accuracy: %f val accuracy: %f' % (\n",
    "                lr, reg, train_accuracy, val_accuracy))\n",
    "    \n",
    "print('best validation accuracy achieved during cross-validation: %f' % best_val)"
   ]
  },
  {
   "cell_type": "code",
   "execution_count": 7,
   "metadata": {
    "collapsed": false
   },
   "outputs": [
    {
     "name": "stdout",
     "output_type": "stream",
     "text": [
      "softmax on raw pixels final test set accuracy: 0.337000\n"
     ]
    }
   ],
   "source": [
    "# evaluate on test set\n",
    "# Evaluate the best softmax on test set\n",
    "y_test_pred = best_softmax.predict(X_test)\n",
    "test_accuracy = np.mean(y_test == y_test_pred)\n",
    "print('softmax on raw pixels final test set accuracy: %f' % (test_accuracy, ))"
   ]
  },
  {
   "cell_type": "code",
   "execution_count": 8,
   "metadata": {
    "collapsed": false
   },
   "outputs": [
    {
     "data": {
      "image/png": "[encoded data removed]",
      "text/plain": [
       "<matplotlib.figure.Figure at 0x7fcfa68e9e10>"
      ]
     },
     "metadata": {},
     "output_type": "display_data"
    }
   ],
   "source": [
    "# Visualize the learned weights for each class\n",
    "w = best_softmax.W[:-1,:] # strip out the bias\n",
    "w = w.reshape(32, 32, 3, 10)\n",
    "\n",
    "w_min, w_max = np.min(w), np.max(w)\n",
    "\n",
    "classes = ['plane', 'car', 'bird', 'cat', 'deer', 'dog', 'frog', 'horse', 'ship', 'truck']\n",
    "for i in range(10):\n",
    "    plt.subplot(2, 5, i + 1)\n",
    "    \n",
    "    # Rescale the weights to be between 0 and 255\n",
    "    wimg = 255.0 * (w[:, :, :, i].squeeze() - w_min) / (w_max - w_min)\n",
    "    plt.imshow(wimg.astype('uint8'))\n",
    "    plt.axis('off')\n",
    "    plt.title(classes[i])"
   ]
  },
  {
   "cell_type": "code",
   "execution_count": null,
   "metadata": {
    "collapsed": true
   },
   "outputs": [],
   "source": []
  },
  {
   "cell_type": "code",
   "execution_count": null,
   "metadata": {
    "collapsed": true
   },
   "outputs": [],
   "source": []
  }
 ],
 "metadata": {
  "kernelspec": {
   "display_name": "Python 3",
   "language": "python",
   "name": "python3"
  },
  "language_info": {
   "codemirror_mode": {
    "name": "ipython",
    "version": 3
   },
   "file_extension": ".py",
   "mimetype": "text/x-python",
   "name": "python",
   "nbconvert_exporter": "python",
   "pygments_lexer": "ipython3",
   "version": "3.5.2"
  }
 },
 "nbformat": 4,
 "nbformat_minor": 0
}
